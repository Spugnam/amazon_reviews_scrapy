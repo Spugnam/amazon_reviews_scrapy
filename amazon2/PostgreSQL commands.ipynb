{
 "cells": [
  {
   "cell_type": "markdown",
   "metadata": {},
   "source": [
    "# Database Setup"
   ]
  },
  {
   "cell_type": "code",
   "execution_count": null,
   "metadata": {},
   "outputs": [],
   "source": [
    "# txt data type: variable unlimited length -PostgreSQL specific\n",
    "# real data type: variable-precision, inexact -much faster than numerci\n",
    "\n",
    "commands = (\n",
    "        \"\"\"\n",
    "        CREATE TABLE products (\n",
    "            category VARCHAR(255),\n",
    "            company VARCHAR(255),\n",
    "            asin VARCHAR(10) PRIMARY KEY,\n",
    "            rating real,\n",
    "            num_review INTEGER,\n",
    "            product_desc text\n",
    "        )\n",
    "        \"\"\",\n",
    "        \"\"\" CREATE TABLE reviews (\n",
    "                review_id VARCHAR(14) PRIMARY KEY,\n",
    "                FOREIGN KEY (asin)\n",
    "                    REFERENCES products (asin)\n",
    "                    ON UPDATE CASCADE ON DELETE CASCADE,\n",
    "                review_date date,\n",
    "                review_rating INTEGER,\n",
    "                review_title text,\n",
    "                review_body text\n",
    "                )\n",
    "        \"\"\")"
   ]
  },
  {
   "cell_type": "code",
   "execution_count": null,
   "metadata": {},
   "outputs": [],
   "source": [
    "commands_reviews = (\n",
    "        \"\"\" CREATE TABLE reviews (\n",
    "                review_id VARCHAR(14) PRIMARY KEY,\n",
    "                asin VARCHAR(10),\n",
    "                review_date date,\n",
    "                review_rating INTEGER,\n",
    "                review_title text,\n",
    "                review_body text\n",
    "                )\n",
    "        \"\"\",\n",
    "        \"\"\" ALTER TABLE reviews \n",
    "        ADD CONSTRAINT asin FOREIGN KEY (asin) \n",
    "        REFERENCES products (asin) >MATCH FULL;\"\"\")\n",
    "\n",
    "#                 asin FOREIGN KEY (asin)\n",
    "#                     REFERENCES products (asin)\n",
    "#                     ON UPDATE CASCADE ON DELETE CASCADE,"
   ]
  },
  {
   "cell_type": "code",
   "execution_count": null,
   "metadata": {},
   "outputs": [],
   "source": [
    "ALTER TABLE reviews ADD CONSTRAINT asin_fkey FOREIGN KEY (asin) REFERENCES products (asin) ON UPDATE CASCADE ON DELETE CASCADE;"
   ]
  },
  {
   "cell_type": "code",
   "execution_count": null,
   "metadata": {},
   "outputs": [],
   "source": [
    "conn = None\n",
    "try:\n",
    "    # connect to the PostgreSQL server\n",
    "    conn = psycopg2.connect(**config)\n",
    "    print(conn)\n",
    "    cur = conn.cursor()\n",
    "    # create table one by one\n",
    "    for command in commands:\n",
    "        cur.execute(commands_reviews)\n",
    "        # commit the changes\n",
    "        conn.commit()\n",
    "except (Exception, psycopg2.DatabaseError) as error:\n",
    "    print(error)\n",
    "finally:\n",
    "    if conn is not None:\n",
    "        print(\"closing connection\")\n",
    "        conn.close()\n"
   ]
  },
  {
   "cell_type": "code",
   "execution_count": null,
   "metadata": {},
   "outputs": [],
   "source": [
    "command_select = ('''SELECT ASIN, product_desc FROM products;''')\n",
    "command_drop = ('''DROP TABLE products, reviews;''')\n",
    "command_insert = ('''INSERT INTO products (asin, category, company, num_review, product_desc, rating)\n",
    "                        VALUES\n",
    "                         ('123456789a', 'categoryt', 'companyt', '33', 'prod_desct', '2')''')\n",
    "\n",
    "command_show = ('''ANALYZE;''')\n",
    "command_delete = ('''DELETE FROM products WHERE asin LIKE '%123456789%';''')\n"
   ]
  },
  {
   "cell_type": "code",
   "execution_count": null,
   "metadata": {},
   "outputs": [],
   "source": [
    "conn = None\n",
    "try:\n",
    "    # connect to the PostgreSQL server\n",
    "    conn = psycopg2.connect(**DATABASE2)\n",
    "    print(conn)\n",
    "    cur = conn.cursor()\n",
    "    cur.execute(command_select)\n",
    "#     for elem in cur:\n",
    "#         print(elem)\n",
    "    cur.fetchall()\n",
    "    # commit the changes\n",
    "    conn.commit()\n",
    "except (Exception, psycopg2.DatabaseError) as error:\n",
    "    print(error)\n",
    "finally:\n",
    "    if conn is not None:\n",
    "        print(\"closing connection\")\n",
    "        conn.close()"
   ]
  },
  {
   "cell_type": "markdown",
   "metadata": {},
   "source": [
    "# Loading of category URLs"
   ]
  },
  {
   "cell_type": "code",
   "execution_count": null,
   "metadata": {},
   "outputs": [],
   "source": [
    "category_start_url = ['https://www.amazon.com/b/ref=s9_acsd_hfnv_hd_bw_bisK_ct_x_ct04_w?_encoding=UTF8&node=3015438011&pf_rd_m=ATVPDKIKX0DER&pf_rd_s=merchandised-search-4&pf_rd_r=7EAVJ857KYXFQ598QMDB&pf_rd_t=101&pf_rd_p=f3cab598-a031-5fae-8730-8836e3a0d44b&pf_rd_i=172504']\n",
    "    # 'Network Antennas'\n",
    "category_URL_list = [ \"https://www.amazon.com/s/ref=lp_3015438011_pg_\" + str(i) +\n",
    "                          \"?rh=n%3A172282%2Cn%3A%21493964%2Cn%3A541966%2Cn%3A172504%2Cn%3A3015438011&page=\" + str(i) +\n",
    "                          \"&ie=UTF8&qid=1508601353\" for i in range(2, 159)]\n",
    "start_urls = category_start_url + category_URL_list"
   ]
  },
  {
   "cell_type": "code",
   "execution_count": null,
   "metadata": {},
   "outputs": [],
   "source": [
    "start_urls"
   ]
  },
  {
   "cell_type": "code",
   "execution_count": null,
   "metadata": {},
   "outputs": [],
   "source": [
    "# add Network Attached Storage   urls\n",
    "category_start_url = [\n",
    "        'https://www.amazon.com/b/ref=s9_acsd_hfnv_hd_bw_bisK_ct_x_ct06_w?_encoding=UTF8&node=13436301&pf_rd_m=ATVPDKIKX0DER&pf_rd_s=merchandised-search-4&pf_rd_r=WS74YH2GQSWH61P9WEHY&pf_rd_t=101&pf_rd_p=f3cab598-a031-5fae-8730-8836e3a0d44b&pf_rd_i=172504']\n",
    "\n",
    "category_URL_list = [\"https://www.amazon.com/s/ref=lp_13436301_pg_\" + str(i) +\n",
    "                         \"?rh=n%3A172282%2Cn%3A%21493964%2Cn%3A541966%2Cn%3A1292110011%2Cn%3A13436301&page=\" + str(i) +\n",
    "                         \"&ie=UTF8&qid=1508605272\" for i in range(2, 238)]\n",
    "\n",
    "start_urls = start_urls + category_start_url + category_URL_list  # add new links"
   ]
  },
  {
   "cell_type": "code",
   "execution_count": null,
   "metadata": {},
   "outputs": [],
   "source": [
    "start_urls"
   ]
  },
  {
   "cell_type": "code",
   "execution_count": null,
   "metadata": {},
   "outputs": [],
   "source": [
    "# add Repeaters  urls\n",
    "category_start_url = [\n",
    "        'https://www.amazon.com/b/ref=s9_acsd_hfnv_hd_bw_bisK_ct_x_ct08_w?_encoding=UTF8&node=3015439011&pf_rd_m=ATVPDKIKX0DER&pf_rd_s=merchandised-search-4&pf_rd_r=RS54K5YQXGSTS7YAE5CX&pf_rd_t=101&pf_rd_p=f3cab598-a031-5fae-8730-8836e3a0d44b&pf_rd_i=172504']\n",
    "\n",
    "category_URL_list = [\"https://www.amazon.com/s/ref=lp_13983761_pg_\" + str(i) +\n",
    "                         \"?rh=n%3A172282%2Cn%3A%21493964%2Cn%3A541966%2Cn%3A172504%2Cn%3A13983761&page=\" + str(i) +\n",
    "                         \"&ie=UTF8&qid=1508689940\" for i in range(2, 92)]\n",
    "\n",
    "start_urls = start_urls + category_start_url + category_URL_list  # add new links\n",
    "\n",
    "\n",
    "    "
   ]
  },
  {
   "cell_type": "code",
   "execution_count": null,
   "metadata": {},
   "outputs": [],
   "source": [
    "# print routers - done"
   ]
  },
  {
   "cell_type": "code",
   "execution_count": null,
   "metadata": {},
   "outputs": [],
   "source": [
    "# add Streaming Media Players\n",
    "category_start_url = [\n",
    "        'https://www.amazon.com/b/ref=s9_acsd_hfnv_hd_bw_bisK_ct_x_ct01_w?_encoding=UTF8&node=13447451&pf_rd_m=ATVPDKIKX0DER&pf_rd_s=merchandised-search-4&pf_rd_r=H5JC5N4F2ZK8W3GQ5VV3&pf_rd_t=101&pf_rd_p=f3cab598-a031-5fae-8730-8836e3a0d44b&pf_rd_i=172504']\n",
    "\n",
    "category_URL_list = [\"https://www.amazon.com/s/ref=lp_13447451_pg_\" + str(i) +\n",
    "                         \"?rh=n%3A172282%2Cn%3A%21493964%2Cn%3A1266092011%2Cn%3A13447451&page=\" + str(i) +\n",
    "                         \"&ie=UTF8&qid=1508704738\" for i in range(2, 117)]\n",
    "\n",
    "start_urls = start_urls + category_start_url + category_URL_list  # add new links\n",
    "\n",
    "\n",
    "# add Computing Network Modems\n",
    "category_start_url = [\n",
    "        'https://www.amazon.com/b/ref=s9_acsd_hfnv_hd_bw_bisK_ct_x_ct02_w?_encoding=UTF8&node=284715&pf_rd_m=ATVPDKIKX0DER&pf_rd_s=merchandised-search-4&pf_rd_r=H5JC5N4F2ZK8W3GQ5VV3&pf_rd_t=101&pf_rd_p=f3cab598-a031-5fae-8730-8836e3a0d44b&pf_rd_i=172504']\n",
    "\n",
    "category_URL_list = [\"https://www.amazon.com/s/ref=lp_284715_pg_\" + str(i) +\n",
    "                         \"?rh=n%3A172282%2Cn%3A%21493964%2Cn%3A541966%2Cn%3A172504%2Cn%3A284715&page=\" + str(i) +\n",
    "                         \"&ie=UTF8&qid=1508705068\" for i in range(2, 156)]\n",
    "\n",
    "start_urls = start_urls + category_start_url + category_URL_list  # add new links\n",
    "\n",
    "# Wireless Access Points\n",
    "category_start_url = [\n",
    "        'https://www.amazon.com/b/ref=s9_acsd_hfnv_hd_bw_bisK_ct_x_ct04_w?_encoding=UTF8&node=1194486&pf_rd_m=ATVPDKIKX0DER&pf_rd_s=merchandised-search-4&pf_rd_r=H5JC5N4F2ZK8W3GQ5VV3&pf_rd_t=101&pf_rd_p=f3cab598-a031-5fae-8730-8836e3a0d44b&pf_rd_i=172504']\n",
    "\n",
    "category_URL_list = [\"https://www.amazon.com/s/ref=lp_1194486_pg_\" + str(i) +\n",
    "                         \"?rh=n%3A172282%2Cn%3A%21493964%2Cn%3A541966%2Cn%3A172504%2Cn%3A1194486&page=\" + str(i) +\n",
    "                         \"&ie=UTF8&qid=1508705299\" for i in range(2, 223)]\n",
    "\n",
    "start_urls = start_urls + category_start_url + category_URL_list  # add new links\n",
    "\n",
    "# Switches\n",
    "category_start_url = [\n",
    "        'https://www.amazon.com/b/ref=s9_acsd_hfnv_hd_bw_bisK_ct_x_ct06_w?_encoding=UTF8&node=281414&pf_rd_m=ATVPDKIKX0DER&pf_rd_s=merchandised-search-4&pf_rd_r=H5JC5N4F2ZK8W3GQ5VV3&pf_rd_t=101&pf_rd_p=f3cab598-a031-5fae-8730-8836e3a0d44b&pf_rd_i=172504']\n",
    "    \n",
    "category_URL_list = [\"https://www.amazon.com/s/ref=lp_281414_pg_\" + str(i) +\n",
    "                         \"?rh=n%3A172282%2Cn%3A%21493964%2Cn%3A541966%2Cn%3A172504%2Cn%3A281414&page=\" + str(i) +\n",
    "                         \"&ie=UTF8&qid=1508705506\" for i in range(2, 401)]\n",
    "\n",
    "start_urls = start_urls + category_start_url + category_URL_list  # add new links\n",
    "\n",
    "# Network Transceivers\n",
    "category_start_url = [\n",
    "        'https://www.amazon.com/b/ref=s9_acsd_hfnv_hd_bw_bisK_ct_x_ct09_w?_encoding=UTF8&node=537316&pf_rd_m=ATVPDKIKX0DER&pf_rd_s=merchandised-search-4&pf_rd_r=H5JC5N4F2ZK8W3GQ5VV3&pf_rd_t=101&pf_rd_p=f3cab598-a031-5fae-8730-8836e3a0d44b&pf_rd_i=172504']\n",
    "\n",
    "category_URL_list = [\"https://www.amazon.com/s/ref=lp_537316_pg_\" + str(i) +\n",
    "                         \"?rh=n%3A172282%2Cn%3A%21493964%2Cn%3A541966%2Cn%3A172504%2Cn%3A537316&page=\" + str(i) +\n",
    "                         \"&ie=UTF8&qid=1508705648\" for i in range(2, 401)]\n",
    "\n",
    "\n",
    "start_urls = start_urls + category_start_url + category_URL_list  # add new links\n",
    "\n",
    "# Network Adapters\n",
    "category_start_url = [\n",
    "        'https://www.amazon.com/b/ref=s9_acsd_hfnv_hd_bw_bisK_ct_x_ct10_w?_encoding=UTF8&node=490499011&pf_rd_m=ATVPDKIKX0DER&pf_rd_s=merchandised-search-4&pf_rd_r=H5JC5N4F2ZK8W3GQ5VV3&pf_rd_t=101&pf_rd_p=f3cab598-a031-5fae-8730-8836e3a0d44b&pf_rd_i=172504']\n",
    "\n",
    "    \n",
    "category_URL_list = [\"https://www.amazon.com/s/ref=lp_490499011_pg_\" + str(i) +\n",
    "                         \"?rh=n%3A172282%2Cn%3A%21493964%2Cn%3A541966%2Cn%3A172504%2Cn%3A490499011&page=\" + str(i) +\n",
    "                         \"&ie=UTF8&qid=1508705799\" for i in range(2, 401)]\n",
    "\n",
    "start_urls = start_urls + category_start_url + category_URL_list  # add new links"
   ]
  },
  {
   "cell_type": "code",
   "execution_count": null,
   "metadata": {},
   "outputs": [],
   "source": [
    "start_urls = []"
   ]
  },
  {
   "cell_type": "code",
   "execution_count": null,
   "metadata": {},
   "outputs": [],
   "source": [
    "# Earbud Headphones\n",
    "category_start_url = [\n",
    "        'https://www.amazon.com/b/ref=lp_172541_ln_0?node=12097478011&ie=UTF8&qid=1508730723']\n",
    "\n",
    "    \n",
    "category_URL_list = [\"https://www.amazon.com/s/ref=lp_12097478011_pg_\" + str(i) +\n",
    "                         \"?rh=n%3A172282%2Cn%3A%21493964%2Cn%3A172541%2Cn%3A12097478011&page=\" + str(i) +\n",
    "                         \"&ie=UTF8&qid=1508730739\" for i in range(2, 401)]\n",
    "\n",
    "start_urls = start_urls + category_start_url + category_URL_list  # add new links\n",
    "\n",
    "# On-ear Headphones\n",
    "category_start_url = [\n",
    "        'https://www.amazon.com/On-Ear-Headphones/b/ref=sn_gfs_co_coins_12097480011_2?ie=UTF8&node=12097480011&pf_rd_p=28d73b43-f35e-4996-90fe-fb4130c98842&pf_rd_r=4VJ9ANC8CP0Q8MB6WVC5&pf_rd_s=home-audio-subnav-flyout-content-2&pf_rd_t=SubnavFlyout']\n",
    "\n",
    "    \n",
    "category_URL_list = [\"https://www.amazon.com/s/ref=lp_12097480011_pg_\" + str(i) +\n",
    "                         \"?rh=n%3A172282%2Cn%3A%21493964%2Cn%3A172541%2Cn%3A12097480011&page=\" + str(i) +\n",
    "                         \"&ie=UTF8&qid=1508731077\" for i in range(2, 227)]\n",
    "\n",
    "start_urls = start_urls + category_start_url + category_URL_list  # add new links\n",
    "\n",
    "# Over-ear Headphones\n",
    "category_start_url = [\n",
    "        'https://www.amazon.com/Over-Ear-Headphones/b/ref=sn_gfs_co_coins_12097479011_3?ie=UTF8&node=12097479011&pf_rd_p=28d73b43-f35e-4996-90fe-fb4130c98842&pf_rd_r=YHPFTPPV99V769NNBQEY&pf_rd_s=home-audio-subnav-flyout-content-2&pf_rd_t=SubnavFlyout']\n",
    "\n",
    "    \n",
    "category_URL_list = [\"https://www.amazon.com/s/ref=lp_12097479011_pg_\" + str(i) +\n",
    "                         \"?rh=n%3A172282%2Cn%3A%21493964%2Cn%3A172541%2Cn%3A12097479011&page=\" + str(i) +\n",
    "                         \"&ie=UTF8&qid=1508731230\" for i in range(2, 401)]\n",
    "\n",
    "start_urls = start_urls + category_start_url + category_URL_list  # add new links"
   ]
  },
  {
   "cell_type": "code",
   "execution_count": null,
   "metadata": {},
   "outputs": [],
   "source": [
    "start_urls"
   ]
  },
  {
   "cell_type": "code",
   "execution_count": null,
   "metadata": {},
   "outputs": [],
   "source": []
  },
  {
   "cell_type": "code",
   "execution_count": null,
   "metadata": {},
   "outputs": [],
   "source": []
  },
  {
   "cell_type": "code",
   "execution_count": null,
   "metadata": {},
   "outputs": [],
   "source": []
  },
  {
   "cell_type": "code",
   "execution_count": null,
   "metadata": {},
   "outputs": [],
   "source": [
    "import redis\n",
    "#redis_host = '13.59.119.55' # EC2 server\n",
    "redis_host = '127.0.0.1'\n",
    "redis_port = 6379\n",
    "redis_db = 0\n",
    "\n",
    "redis_conn = redis.StrictRedis(host=redis_host,\n",
    "                               port=redis_port,\n",
    "                               db=redis_db)\n",
    "\n",
    "# test\n",
    "redis_conn.sadd('test_key', 'test_val1')"
   ]
  },
  {
   "cell_type": "code",
   "execution_count": null,
   "metadata": {},
   "outputs": [],
   "source": [
    "with open('ASINs.txt', 'w+') as f:\n",
    "    while redis_conn.scard('ASIN_review_err') > 0:\n",
    "        val = redis_conn.spop('ASIN_review_err').decode(\"utf-8\")\n",
    "        #print(\"Value: \", val)\n",
    "        f.write(val+\"\\n\")"
   ]
  },
  {
   "cell_type": "code",
   "execution_count": null,
   "metadata": {},
   "outputs": [],
   "source": [
    "with open('ASINs.txt', 'r+') as f:\n",
    "    while redis_conn.scard('ASIN_review_err') > 0:\n",
    "        val = redis_conn.spop('ASIN_review_err').decode(\"utf-8\")\n",
    "        #print(\"Value: \", val)\n",
    "        f.write(val+\"\\n\")"
   ]
  },
  {
   "cell_type": "code",
   "execution_count": null,
   "metadata": {},
   "outputs": [],
   "source": [
    "with open('ASINs.txt', 'r+') as f:\n",
    "    for line in f.readlines():\n",
    "        redis_conn.sadd('ASINs', line)"
   ]
  },
  {
   "cell_type": "code",
   "execution_count": null,
   "metadata": {},
   "outputs": [],
   "source": [
    "while redis_conn.scard('ASIN_review_err') > 0:\n",
    "    redis_conn.sadd('ASINs', redis_conn.spop('ASIN_review_err').decode(\"utf-8\"))"
   ]
  },
  {
   "cell_type": "code",
   "execution_count": null,
   "metadata": {},
   "outputs": [],
   "source": []
  },
  {
   "cell_type": "code",
   "execution_count": null,
   "metadata": {},
   "outputs": [],
   "source": []
  }
 ],
 "metadata": {
  "kernelspec": {
   "display_name": "Python 3",
   "language": "python",
   "name": "python3"
  },
  "language_info": {
   "codemirror_mode": {
    "name": "ipython",
    "version": 3
   },
   "file_extension": ".py",
   "mimetype": "text/x-python",
   "name": "python",
   "nbconvert_exporter": "python",
   "pygments_lexer": "ipython3",
   "version": "3.6.3"
  }
 },
 "nbformat": 4,
 "nbformat_minor": 2
}
